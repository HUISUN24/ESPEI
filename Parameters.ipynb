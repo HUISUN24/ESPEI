{
 "cells": [
  {
   "cell_type": "code",
   "execution_count": 1,
   "metadata": {
    "collapsed": false
   },
   "outputs": [],
   "source": [
    "%matplotlib inline\n",
    "import matplotlib\n",
    "matplotlib.style.use('bmh')\n",
    "import paramselect\n",
    "import os\n",
    "import fnmatch\n",
    "def recursive_glob(start, pattern):\n",
    "    matches = []\n",
    "    for root, dirnames, filenames in os.walk(start):\n",
    "        for filename in fnmatch.filter(filenames, pattern):\n",
    "            matches.append(os.path.join(root, filename))\n",
    "    return matches\n",
    "\n",
    "datasets = paramselect.load_datasets(sorted(recursive_glob('Al-Ni', '*.json')))"
   ]
  },
  {
   "cell_type": "code",
   "execution_count": 2,
   "metadata": {
    "collapsed": false,
    "scrolled": false
   },
   "outputs": [
    {
     "name": "stdout",
     "output_type": "stream",
     "text": [
      "9 endmembers (6 distinct by symmetry)\n",
      "ENDMEMBER: ('AL', 'AL', 'VA')\n",
      "((1,), 'rss:', 0.0, 'AIC:', -inf)\n",
      "ENDMEMBER: ('AL', 'NI', 'VA')\n",
      "((T*log(T),), 'rss:', 14.988883894999999, 'AIC:', 175.26776657310174)\n",
      "((T*log(T), T**2), 'rss:', 0.2873883389542129, 'AIC:', -75.802936347674901)\n",
      "((T*log(T), T**2, 1/T), 'rss:', 0.0099866390517579038, 'AIC:', -288.81645914770121)\n",
      "((T*log(T), T**2, 1/T, T**3), 'rss:', 0.0072673304269471536, 'AIC:', -307.1594405676077)\n",
      "((T,), 'rss:', 0.0025696812500114125, 'AIC:', -379.69429855999584)\n",
      "((1,), 'rss:', 173532.43540185422, 'AIC:', 786.16778754974746)\n",
      "ENDMEMBER: ('AL', 'VA', 'VA')\n",
      "((1,), 'rss:', 0.0, 'AIC:', -inf)\n",
      "ENDMEMBER: ('NI', 'NI', 'VA')\n",
      "((1,), 'rss:', 0.0, 'AIC:', -inf)\n",
      "ENDMEMBER: ('NI', 'VA', 'VA')\n",
      "((1,), 'rss:', 0.0, 'AIC:', -inf)\n",
      "ENDMEMBER: ('VA', 'VA', 'VA')\n",
      "14 distinct binary interactions\n",
      "INTERACTION: ('AL', ('AL', 'NI'), 'VA')\n",
      "ENDMEMBERS FROM INTERACTION: [('AL', 'AL', 'VA'), ('AL', 'NI', 'VA')]\n",
      "MULTIPLIERS FROM INTERACTION: [0.5, 0.5]\n",
      "MULTIPLIERS FROM INTERACTION: [0.25, 0.75]\n",
      "([YS], 'rss:', 140606599.26941723, 'AIC:', 39.522952945443393)\n",
      "([YS, YS*Z], 'rss:', 2.6469779601696886e-23, 'AIC:', -99.972077083991792)\n",
      "([YS, YS*Z, YS*Z**2], 'rss:', 1.3234889800848443e-23, 'AIC:', -99.358371445111686)\n",
      "([YS, YS*Z, YS*Z**2, YS*Z**3], 'rss:', 4.3013391852757439e-23, 'AIC:', -95.001061452428388)\n",
      "[108528.651733466 158103.538097689 0 0 0 0 0 0 0 0]\n",
      "INTERACTION: ('AL', ('AL', 'VA'), 'VA')\n",
      "ENDMEMBERS FROM INTERACTION: [('AL', 'AL', 'VA'), ('AL', 'VA', 'VA')]\n",
      "[0 0 0 0 0 0 0 0 0 0]\n",
      "INTERACTION: ('AL', ('NI', 'VA'), 'VA')\n",
      "ENDMEMBERS FROM INTERACTION: [('AL', 'NI', 'VA'), ('AL', 'VA', 'VA')]\n",
      "MULTIPLIERS FROM INTERACTION: [0.5, 0.5]\n",
      "MULTIPLIERS FROM INTERACTION: [0.6, 0.4]\n",
      "([YS], 'rss:', 141019858.72801435, 'AIC:', 39.528822560935573)\n",
      "([YS, YS*Z], 'rss:', 2.6469779601696886e-23, 'AIC:', -99.972077083991792)\n",
      "([YS, YS*Z, YS*Z**2], 'rss:', 3.8712052667481695e-22, 'AIC:', -92.606612297755959)\n",
      "([YS, YS*Z, YS*Z**2, YS*Z**3], 'rss:', 2.150669592637872e-22, 'AIC:', -91.782185627560196)\n",
      "[-61352.3287043448 -342949.674730072 0 0 0 0 0 0 0 0]\n",
      "INTERACTION: ('NI', ('AL', 'NI'), 'VA')\n",
      "ENDMEMBERS FROM INTERACTION: [('NI', 'AL', 'VA'), ('NI', 'NI', 'VA')]\n",
      "MULTIPLIERS FROM INTERACTION: [0.75, 0.25]\n",
      "MULTIPLIERS FROM INTERACTION: [0.5, 0.5]\n",
      "([YS], 'rss:', 223565174.55080146, 'AIC:', 40.45042707647351)\n",
      "([YS, YS*Z], 'rss:', 0.0, 'AIC:', -inf)\n",
      "([YS, YS*Z, YS*Z**2], 'rss:', 1.6543612251060553e-23, 'AIC:', -98.912084342483269)\n",
      "([YS, YS*Z, YS*Z**2, YS*Z**3], 'rss:', 2.9778502051908996e-23, 'AIC:', -95.736511012679031)\n",
      "[-20567.2579178725 -199361.279891915 0 0 0 0 0 0 0 0]\n",
      "INTERACTION: ('NI', ('NI', 'VA'), 'VA')\n",
      "ENDMEMBERS FROM INTERACTION: [('NI', 'NI', 'VA'), ('NI', 'VA', 'VA')]\n",
      "[0 0 0 0 0 0 0 0 0 0]\n",
      "INTERACTION: ('VA', ('AL', 'NI'), 'VA')\n",
      "ENDMEMBERS FROM INTERACTION: [('VA', 'AL', 'VA'), ('VA', 'NI', 'VA')]\n",
      "[0 0 0 0 0 0 0 0 0 0]\n",
      "INTERACTION: ('VA', ('AL', 'VA'), 'VA')\n",
      "ENDMEMBERS FROM INTERACTION: [('VA', 'AL', 'VA'), ('VA', 'VA', 'VA')]\n",
      "[0 0 0 0 0 0 0 0 0 0]\n",
      "INTERACTION: ('VA', ('NI', 'VA'), 'VA')\n",
      "ENDMEMBERS FROM INTERACTION: [('VA', 'NI', 'VA'), ('VA', 'VA', 'VA')]\n",
      "[0 0 0 0 0 0 0 0 0 0]\n",
      "INTERACTION: (('AL', 'NI'), ('AL', 'NI'), 'VA')\n",
      "ENDMEMBERS FROM INTERACTION: [('AL', 'AL', 'VA'), ('AL', 'NI', 'VA'), ('NI', 'AL', 'VA'), ('NI', 'NI', 'VA')]\n",
      "[0 0 0 0 0 0 0 0 0 0]\n",
      "INTERACTION: (('AL', 'NI'), ('AL', 'VA'), 'VA')\n",
      "ENDMEMBERS FROM INTERACTION: [('AL', 'AL', 'VA'), ('AL', 'VA', 'VA'), ('NI', 'AL', 'VA'), ('NI', 'VA', 'VA')]\n",
      "[0 0 0 0 0 0 0 0 0 0]\n",
      "INTERACTION: (('AL', 'NI'), ('NI', 'VA'), 'VA')\n",
      "ENDMEMBERS FROM INTERACTION: [('AL', 'NI', 'VA'), ('AL', 'VA', 'VA'), ('NI', 'NI', 'VA'), ('NI', 'VA', 'VA')]\n",
      "[0 0 0 0 0 0 0 0 0 0]\n",
      "INTERACTION: (('AL', 'VA'), ('AL', 'VA'), 'VA')\n",
      "ENDMEMBERS FROM INTERACTION: [('AL', 'AL', 'VA'), ('AL', 'VA', 'VA'), ('VA', 'AL', 'VA'), ('VA', 'VA', 'VA')]\n",
      "[0 0 0 0 0 0 0 0 0 0]\n",
      "INTERACTION: (('AL', 'VA'), ('NI', 'VA'), 'VA')\n",
      "ENDMEMBERS FROM INTERACTION: [('AL', 'NI', 'VA'), ('AL', 'VA', 'VA'), ('VA', 'NI', 'VA'), ('VA', 'VA', 'VA')]\n",
      "[0 0 0 0 0 0 0 0 0 0]\n",
      "INTERACTION: (('NI', 'VA'), ('NI', 'VA'), 'VA')\n",
      "ENDMEMBERS FROM INTERACTION: [('NI', 'NI', 'VA'), ('NI', 'VA', 'VA'), ('VA', 'NI', 'VA'), ('VA', 'VA', 'VA')]\n",
      "[0 0 0 0 0 0 0 0 0 0]\n",
      "Elements: ['AL', 'NI', 'VA']\n",
      "Species: []\n",
      "Phase({'constituents': [['AL', 'NI', 'VA'], ['AL', 'NI', 'VA'], ['VA']], 'model_hints': [], 'sublattices': [0.5, 0.5, 1], 'name': 'BCC_B2'})\n",
      "3 symbols in database\n",
      "21 parameters in database\n",
      "\n"
     ]
    }
   ],
   "source": [
    "from paramselect import generate_parameter_file\n",
    "dbf = \\\n",
    "generate_parameter_file('BCC_B2', 'B2', [['AL', 'NI', 'VA'], ['AL', 'NI', 'VA'], ['VA']], [0.5, 0.5, 1], datasets)\n",
    "print(dbf)"
   ]
  },
  {
   "cell_type": "code",
   "execution_count": 3,
   "metadata": {
    "collapsed": false,
    "scrolled": false
   },
   "outputs": [
    {
     "ename": "NameError",
     "evalue": "name 'return_dict' is not defined",
     "output_type": "error",
     "traceback": [
      "\u001b[1;31m---------------------------------------------------------------------------\u001b[0m",
      "\u001b[1;31mNameError\u001b[0m                                 Traceback (most recent call last)",
      "\u001b[1;32m<ipython-input-3-ba2caa821a69>\u001b[0m in \u001b[0;36m<module>\u001b[1;34m()\u001b[0m\n\u001b[0;32m      1\u001b[0m \u001b[1;31m#datasets = paramselect.load_datasets(sorted(recursive_glob('Al-Ni', '*.json')))\u001b[0m\u001b[1;33m\u001b[0m\u001b[1;33m\u001b[0m\u001b[0m\n\u001b[0;32m      2\u001b[0m paramselect.plot_parameters([\"AL\", \"NI\", \"VA\"], \"BCC_B2\", [\"AL\", [\"NI\", \"VA\"], \"VA\"],\n\u001b[1;32m----> 3\u001b[1;33m                             [0.5, 0.5, 1], datasets, return_dict[(\"AL\", (\"NI\", \"VA\"), \"VA\")], plots=[('Z', 'HM_FORM')])\n\u001b[0m",
      "\u001b[1;31mNameError\u001b[0m: name 'return_dict' is not defined"
     ]
    }
   ],
   "source": [
    "#datasets = paramselect.load_datasets(sorted(recursive_glob('Al-Ni', '*.json')))\n",
    "paramselect.plot_parameters([\"AL\", \"NI\", \"VA\"], \"BCC_B2\", [\"AL\", [\"NI\", \"VA\"], \"VA\"],\n",
    "                            [0.5, 0.5, 1], datasets, return_dict[(\"AL\", (\"NI\", \"VA\"), \"VA\")], plots=[('Z', 'HM_FORM')])"
   ]
  },
  {
   "cell_type": "code",
   "execution_count": null,
   "metadata": {
    "collapsed": true
   },
   "outputs": [],
   "source": []
  }
 ],
 "metadata": {
  "kernelspec": {
   "display_name": "Python 2",
   "language": "python",
   "name": "python2"
  },
  "language_info": {
   "codemirror_mode": {
    "name": "ipython",
    "version": 2
   },
   "file_extension": ".py",
   "mimetype": "text/x-python",
   "name": "python",
   "nbconvert_exporter": "python",
   "pygments_lexer": "ipython2",
   "version": "2.7.11"
  }
 },
 "nbformat": 4,
 "nbformat_minor": 0
}
