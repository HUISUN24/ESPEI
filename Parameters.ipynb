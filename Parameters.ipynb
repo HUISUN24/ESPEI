{
 "cells": [
  {
   "cell_type": "code",
   "execution_count": 7,
   "metadata": {
    "collapsed": false
   },
   "outputs": [],
   "source": [
    "%matplotlib inline\n",
    "import paramselect\n",
    "import os\n",
    "import fnmatch\n",
    "def recursive_glob(start, pattern):\n",
    "    matches = []\n",
    "    for root, dirnames, filenames in os.walk(start):\n",
    "        for filename in fnmatch.filter(filenames, pattern):\n",
    "            matches.append(os.path.join(root, filename))\n",
    "    return matches\n",
    "comps = ['AL', 'NI', 'VA']\n",
    "phase = 'BCC_B2'\n",
    "#configuration = [[\"NI\"], [\"NI\"], [\"NI\"], [\"AL\"], [\"VA\"]]\n",
    "configuration = [[\"AL\"], [\"NI\"], [\"VA\"]]\n",
    "datasets = paramselect.load_datasets(sorted(recursive_glob('Al-Ni', '*.json')))"
   ]
  },
  {
   "cell_type": "code",
   "execution_count": 8,
   "metadata": {
    "collapsed": false
   },
   "outputs": [
    {
     "name": "stdout",
     "output_type": "stream",
     "text": [
      "((T*log(T),), 'rss:', 14.988883894999999, 'AIC:', 175.26776657310174)\n",
      "((T*log(T), T**2), 'rss:', 0.2873883389542129, 'AIC:', -75.802936347674901)\n",
      "((T*log(T), T**2, 1/T), 'rss:', 0.0099866390517579038, 'AIC:', -288.81645914770121)\n",
      "((T*log(T), T**2, 1/T, T**3), 'rss:', 0.0072673304269471536, 'AIC:', -307.1594405676077)\n",
      "((T,), 'rss:', 0.0025696812500114125, 'AIC:', -379.69429855999584)\n",
      "((1,), 'rss:', 986.93600967520456, 'AIC:', 443.25473306725763)\n"
     ]
    },
    {
     "data": {
      "text/plain": [
       "OrderedDict([(T*log(T), 0.00087189801424814029),\n",
       "             (T**2, 0.0012346308738157051),\n",
       "             (1/T, 23095.223924001741),\n",
       "             (T**3, 9.5283914629930409e-08),\n",
       "             (T, 1.3147057429771751),\n",
       "             (1, 64441.740108773534)])"
      ]
     },
     "execution_count": 8,
     "metadata": {},
     "output_type": "execute_result"
    }
   ],
   "source": [
    "paramselect.fit_formation_energy(comps, phase, configuration, datasets)"
   ]
  },
  {
   "cell_type": "code",
   "execution_count": null,
   "metadata": {
    "collapsed": true
   },
   "outputs": [],
   "source": []
  }
 ],
 "metadata": {
  "kernelspec": {
   "display_name": "Python 2",
   "language": "python",
   "name": "python2"
  },
  "language_info": {
   "codemirror_mode": {
    "name": "ipython",
    "version": 2
   },
   "file_extension": ".py",
   "mimetype": "text/x-python",
   "name": "python",
   "nbconvert_exporter": "python",
   "pygments_lexer": "ipython2",
   "version": "2.7.11"
  }
 },
 "nbformat": 4,
 "nbformat_minor": 0
}
