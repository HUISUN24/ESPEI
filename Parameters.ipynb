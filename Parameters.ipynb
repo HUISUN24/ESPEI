{
 "cells": [
  {
   "cell_type": "code",
   "execution_count": 1,
   "metadata": {
    "collapsed": false
   },
   "outputs": [],
   "source": [
    "%matplotlib inline\n",
    "import matplotlib\n",
    "matplotlib.style.use('bmh')\n",
    "import paramselect\n",
    "import os\n",
    "import fnmatch\n",
    "def recursive_glob(start, pattern):\n",
    "    matches = []\n",
    "    for root, dirnames, filenames in os.walk(start):\n",
    "        for filename in fnmatch.filter(filenames, pattern):\n",
    "            matches.append(os.path.join(root, filename))\n",
    "    return matches\n",
    "comps = ['AL', 'NI', 'VA']\n",
    "#phase = 'FCC_L12'\n",
    "#configuration = [\"NI\", \"NI\", \"NI\", \"AL\", \"VA\"]\n",
    "#ratios = [0.25, 0.25, 0.25, 0.25, 1]\n",
    "phase = 'BCC_B2'\n",
    "ratios = [0.5, 0.5, 1]\n",
    "configuration = [\"AL\", [\"AL\", \"NI\"], \"VA\"]\n",
    "datasets = paramselect.load_datasets(sorted(recursive_glob('Al-Ni', '*.json')))"
   ]
  },
  {
   "cell_type": "code",
   "execution_count": 2,
   "metadata": {
    "collapsed": false,
    "scrolled": false
   },
   "outputs": [
    {
     "name": "stdout",
     "output_type": "stream",
     "text": [
      "9 endmembers (6 distinct by symmetry)\n",
      "ENDMEMBER: ('AL', 'AL', 'VA')\n",
      "((1,), 'rss:', 0.0, 'AIC:', -inf)\n",
      "ENDMEMBER: ('AL', 'NI', 'VA')\n",
      "((T*log(T),), 'rss:', 14.988883894999999, 'AIC:', 175.26776657310174)\n",
      "((T*log(T), T**2), 'rss:', 0.2873883389542129, 'AIC:', -75.802936347674901)\n",
      "((T*log(T), T**2, 1/T), 'rss:', 0.0099866390517579038, 'AIC:', -288.81645914770121)\n",
      "((T*log(T), T**2, 1/T, T**3), 'rss:', 0.0072673304269471536, 'AIC:', -307.1594405676077)\n",
      "((T,), 'rss:', 0.0025696812500114125, 'AIC:', -379.69429855999584)\n",
      "((1,), 'rss:', 173532.43540185422, 'AIC:', 786.16778754974746)\n",
      "ENDMEMBER: ('AL', 'VA', 'VA')\n",
      "((1,), 'rss:', 0.0, 'AIC:', -inf)\n",
      "ENDMEMBER: ('NI', 'NI', 'VA')\n",
      "((1,), 'rss:', 0.0, 'AIC:', -inf)\n",
      "ENDMEMBER: ('NI', 'VA', 'VA')\n",
      "((1,), 'rss:', 0.0, 'AIC:', -inf)\n",
      "ENDMEMBER: ('VA', 'VA', 'VA')\n",
      "14 distinct binary interactions\n",
      "INTERACTION: ('AL', ('AL', 'NI'), 'VA')\n",
      "ENDMEMBERS FROM INTERACTION: [('AL', 'AL', 'VA'), ('AL', 'NI', 'VA')]\n",
      "MULTIPLIERS FROM INTERACTION: [(1, 0.5, 1), (1, 0.5, 1)]\n",
      "MULTIPLIERS FROM INTERACTION: [(1, 0.25, 1), (1, 0.75, 1)]\n",
      "([YS], 'rss:', 448807694.77074623, 'AIC:', 41.844210114473789)\n",
      "([YS, YS*Z], 'rss:', 1.3234889800848443e-23, 'AIC:', -101.35837144511169)\n",
      "([YS, YS*Z, YS*Z**2], 'rss:', 1.7205356741102976e-22, 'AIC:', -94.228472730188614)\n",
      "([YS, YS*Z, YS*Z**2, YS*Z**3], 'rss:', 2.6469779601696886e-22, 'AIC:', -91.366906898003705)\n",
      "INTERACTION: ('AL', ('AL', 'VA'), 'VA')\n",
      "ENDMEMBERS FROM INTERACTION: [('AL', 'AL', 'VA'), ('AL', 'VA', 'VA')]\n",
      "INTERACTION: ('AL', ('NI', 'VA'), 'VA')\n",
      "ENDMEMBERS FROM INTERACTION: [('AL', 'NI', 'VA'), ('AL', 'VA', 'VA')]\n",
      "MULTIPLIERS FROM INTERACTION: [(1, 0.5, 1), (1, 0.5, 1)]\n",
      "MULTIPLIERS FROM INTERACTION: [(1, 0.6, 1), (1, 0.4, 1)]\n",
      "([YS], 'rss:', 159826585.40326357, 'AIC:', 39.779199888375693)\n",
      "([YS, YS*Z], 'rss:', 1.7999450129153882e-21, 'AIC:', -91.53306167363958)\n",
      "([YS, YS*Z, YS*Z**2], 'rss:', 6.8821426964411903e-22, 'AIC:', -91.455884007948839)\n",
      "([YS, YS*Z, YS*Z**2, YS*Z**3], 'rss:', 5.2939559203393771e-22, 'AIC:', -89.980612536883811)\n",
      "INTERACTION: ('NI', ('AL', 'NI'), 'VA')\n",
      "ENDMEMBERS FROM INTERACTION: [('NI', 'AL', 'VA'), ('NI', 'NI', 'VA')]\n",
      "MULTIPLIERS FROM INTERACTION: [(1, 0.75, 1), (1, 0.25, 1)]\n",
      "MULTIPLIERS FROM INTERACTION: [(1, 0.5, 1), (1, 0.5, 1)]\n",
      "([YS], 'rss:', 422162576.28513598, 'AIC:', 41.721802099340707)\n",
      "([YS, YS*Z], 'rss:', 0.0, 'AIC:', -inf)\n",
      "([YS, YS*Z, YS*Z**2], 'rss:', 1.3234889800848443e-21, 'AIC:', -90.148031073135499)\n",
      "([YS, YS*Z, YS*Z**2, YS*Z**3], 'rss:', 2.6469779601696886e-22, 'AIC:', -91.366906898003705)\n",
      "INTERACTION: ('NI', ('NI', 'VA'), 'VA')\n",
      "ENDMEMBERS FROM INTERACTION: [('NI', 'NI', 'VA'), ('NI', 'VA', 'VA')]\n",
      "INTERACTION: ('VA', ('AL', 'NI'), 'VA')\n",
      "ENDMEMBERS FROM INTERACTION: [('VA', 'AL', 'VA'), ('VA', 'NI', 'VA')]\n",
      "INTERACTION: ('VA', ('AL', 'VA'), 'VA')\n",
      "ENDMEMBERS FROM INTERACTION: [('VA', 'AL', 'VA'), ('VA', 'VA', 'VA')]\n",
      "INTERACTION: ('VA', ('NI', 'VA'), 'VA')\n",
      "ENDMEMBERS FROM INTERACTION: [('VA', 'NI', 'VA'), ('VA', 'VA', 'VA')]\n",
      "INTERACTION: (('AL', 'NI'), ('AL', 'NI'), 'VA')\n",
      "ENDMEMBERS FROM INTERACTION: [('AL', 'AL', 'VA'), ('AL', 'NI', 'VA'), ('NI', 'AL', 'VA'), ('NI', 'NI', 'VA')]\n",
      "INTERACTION: (('AL', 'NI'), ('AL', 'VA'), 'VA')\n",
      "ENDMEMBERS FROM INTERACTION: [('AL', 'AL', 'VA'), ('AL', 'VA', 'VA'), ('NI', 'AL', 'VA'), ('NI', 'VA', 'VA')]\n",
      "INTERACTION: (('AL', 'NI'), ('NI', 'VA'), 'VA')\n",
      "ENDMEMBERS FROM INTERACTION: [('AL', 'NI', 'VA'), ('AL', 'VA', 'VA'), ('NI', 'NI', 'VA'), ('NI', 'VA', 'VA')]\n",
      "INTERACTION: (('AL', 'VA'), ('AL', 'VA'), 'VA')\n",
      "ENDMEMBERS FROM INTERACTION: [('AL', 'AL', 'VA'), ('AL', 'VA', 'VA'), ('VA', 'AL', 'VA'), ('VA', 'VA', 'VA')]\n",
      "INTERACTION: (('AL', 'VA'), ('NI', 'VA'), 'VA')\n",
      "ENDMEMBERS FROM INTERACTION: [('AL', 'NI', 'VA'), ('AL', 'VA', 'VA'), ('VA', 'NI', 'VA'), ('VA', 'VA', 'VA')]\n",
      "INTERACTION: (('NI', 'VA'), ('NI', 'VA'), 'VA')\n",
      "ENDMEMBERS FROM INTERACTION: [('NI', 'NI', 'VA'), ('NI', 'VA', 'VA'), ('VA', 'NI', 'VA'), ('VA', 'VA', 'VA')]\n"
     ]
    }
   ],
   "source": [
    "from paramselect import generate_parameter_file\n",
    "generate_parameter_file('BCC_B2', 'B2', [['AL', 'NI', 'VA'], ['AL', 'NI', 'VA'], ['VA']], [0.5, 0.5, 1], datasets)"
   ]
  },
  {
   "cell_type": "code",
   "execution_count": 3,
   "metadata": {
    "collapsed": false
   },
   "outputs": [
    {
     "name": "stdout",
     "output_type": "stream",
     "text": [
      "ENDMEMBERS FROM INTERACTION: [('AL', 'AL', 'VA'), ('AL', 'NI', 'VA')]\n"
     ]
    },
    {
     "ename": "ValueError",
     "evalue": "Endmember dictionary must be specified to compute an interaction parameter",
     "output_type": "error",
     "traceback": [
      "\u001b[1;31m---------------------------------------------------------------------------\u001b[0m",
      "\u001b[1;31mValueError\u001b[0m                                Traceback (most recent call last)",
      "\u001b[1;32m<ipython-input-3-06f29eefc6a0>\u001b[0m in \u001b[0;36m<module>\u001b[1;34m()\u001b[0m\n\u001b[1;32m----> 1\u001b[1;33m \u001b[0mparameters\u001b[0m \u001b[1;33m=\u001b[0m \u001b[0mparamselect\u001b[0m\u001b[1;33m.\u001b[0m\u001b[0mfit_formation_energy\u001b[0m\u001b[1;33m(\u001b[0m\u001b[0mcomps\u001b[0m\u001b[1;33m,\u001b[0m \u001b[0mphase\u001b[0m\u001b[1;33m,\u001b[0m \u001b[0mconfiguration\u001b[0m\u001b[1;33m,\u001b[0m \u001b[0mdatasets\u001b[0m\u001b[1;33m)\u001b[0m\u001b[1;33m\u001b[0m\u001b[0m\n\u001b[0m\u001b[0;32m      2\u001b[0m \u001b[1;32mprint\u001b[0m\u001b[1;33m(\u001b[0m\u001b[0mparameters\u001b[0m\u001b[1;33m)\u001b[0m\u001b[1;33m\u001b[0m\u001b[0m\n",
      "\u001b[1;32m/home/rotis/git/pycalphad-fitting/paramselect.py\u001b[0m in \u001b[0;36mfit_formation_energy\u001b[1;34m(comps, phase_name, configuration, datasets, features, endmembers)\u001b[0m\n\u001b[0;32m    263\u001b[0m         \u001b[1;32mprint\u001b[0m\u001b[1;33m(\u001b[0m\u001b[1;34m'ENDMEMBERS FROM INTERACTION: '\u001b[0m\u001b[1;33m+\u001b[0m\u001b[0mstr\u001b[0m\u001b[1;33m(\u001b[0m\u001b[0m_endmembers_from_interaction\u001b[0m\u001b[1;33m(\u001b[0m\u001b[0mconfiguration\u001b[0m\u001b[1;33m)\u001b[0m\u001b[1;33m)\u001b[0m\u001b[1;33m)\u001b[0m\u001b[1;33m\u001b[0m\u001b[0m\n\u001b[0;32m    264\u001b[0m         \u001b[1;32mif\u001b[0m \u001b[0mendmembers\u001b[0m \u001b[1;32mis\u001b[0m \u001b[0mNone\u001b[0m\u001b[1;33m:\u001b[0m\u001b[1;33m\u001b[0m\u001b[0m\n\u001b[1;32m--> 265\u001b[1;33m             \u001b[1;32mraise\u001b[0m \u001b[0mValueError\u001b[0m\u001b[1;33m(\u001b[0m\u001b[1;34m'Endmember dictionary must be specified to compute an interaction parameter'\u001b[0m\u001b[1;33m)\u001b[0m\u001b[1;33m\u001b[0m\u001b[0m\n\u001b[0m\u001b[0;32m    266\u001b[0m \u001b[1;33m\u001b[0m\u001b[0m\n\u001b[0;32m    267\u001b[0m     \u001b[0mparameters\u001b[0m \u001b[1;33m=\u001b[0m \u001b[1;33m{\u001b[0m\u001b[1;33m}\u001b[0m\u001b[1;33m\u001b[0m\u001b[0m\n",
      "\u001b[1;31mValueError\u001b[0m: Endmember dictionary must be specified to compute an interaction parameter"
     ]
    }
   ],
   "source": [
    "parameters = paramselect.fit_formation_energy(comps, phase, configuration, datasets)\n",
    "print(parameters)"
   ]
  },
  {
   "cell_type": "code",
   "execution_count": null,
   "metadata": {
    "collapsed": false,
    "scrolled": false
   },
   "outputs": [],
   "source": [
    "#datasets = paramselect.load_datasets(sorted(recursive_glob('Al-Ni', '*.json')))\n",
    "paramselect.plot_parameters(comps, phase, configuration, ratios, datasets, parameters, plots=[('Z', 'HM_FORM')])"
   ]
  },
  {
   "cell_type": "code",
   "execution_count": null,
   "metadata": {
    "collapsed": true
   },
   "outputs": [],
   "source": []
  }
 ],
 "metadata": {
  "kernelspec": {
   "display_name": "Python 2",
   "language": "python",
   "name": "python2"
  },
  "language_info": {
   "codemirror_mode": {
    "name": "ipython",
    "version": 2
   },
   "file_extension": ".py",
   "mimetype": "text/x-python",
   "name": "python",
   "nbconvert_exporter": "python",
   "pygments_lexer": "ipython2",
   "version": "2.7.11"
  }
 },
 "nbformat": 4,
 "nbformat_minor": 0
}
