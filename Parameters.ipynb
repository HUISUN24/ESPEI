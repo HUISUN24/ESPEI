{
 "cells": [
  {
   "cell_type": "code",
   "execution_count": 1,
   "metadata": {
    "collapsed": false
   },
   "outputs": [],
   "source": [
    "%matplotlib inline\n",
    "import matplotlib\n",
    "matplotlib.style.use('bmh')\n",
    "import paramselect\n",
    "import os\n",
    "import fnmatch\n",
    "def recursive_glob(start, pattern):\n",
    "    matches = []\n",
    "    for root, dirnames, filenames in os.walk(start):\n",
    "        for filename in fnmatch.filter(filenames, pattern):\n",
    "            matches.append(os.path.join(root, filename))\n",
    "    return matches\n",
    "comps = ['AL', 'NI', 'VA']\n",
    "#phase = 'FCC_L12'\n",
    "#configuration = [\"NI\", \"NI\", \"NI\", \"AL\", \"VA\"]\n",
    "#ratios = [0.25, 0.25, 0.25, 0.25, 1]\n",
    "phase = 'BCC_B2'\n",
    "ratios = [0.5, 0.5, 1]\n",
    "configuration = [\"AL\", [\"AL\", \"NI\"], \"VA\"]\n",
    "datasets = paramselect.load_datasets(sorted(recursive_glob('Al-Ni', '*.json')))"
   ]
  },
  {
   "cell_type": "code",
   "execution_count": 2,
   "metadata": {
    "collapsed": false
   },
   "outputs": [
    {
     "name": "stdout",
     "output_type": "stream",
     "text": [
      "[{u'phases': [u'BCC_B2'], u'values': array([[[-19504.41974, -41109.66717]]]), u'components': [u'AL', u'NI', u'VA'], u'reference': u'Chao Jiang 2009 SQS calculations', u'solver': {u'sublattice_occupancies': [[1, [0.5, 0.5], 1], [1, [0.6, 0.4], 1], [1, [0.75, 0.25], 1], [1, [0.5, 0.5], 1], [1, [0.5, 0.5], 1], [1, [0.25, 0.75], 1], [1, [0.6, 0.4], 1], [1, [0.5, 0.5], 1]], u'comment': u'BCC_B2 sublattice configuration (2SL)', u'sublattice_configurations': [[u'AL', [u'NI', u'VA'], u'VA'], [u'AL', [u'NI', u'VA'], u'VA'], [u'NI', [u'AL', u'NI'], u'VA'], [u'NI', [u'AL', u'NI'], u'VA'], [u'AL', [u'AL', u'NI'], u'VA'], [u'AL', [u'AL', u'NI'], u'VA'], [u'NI', [u'AL', u'VA'], u'VA'], [u'NI', [u'AL', u'VA'], u'VA']], u'mode': u'manual', u'sublattice_site_ratios': [0.5, 0.5, 1]}, u'output': u'HM_FORM', u'conditions': {u'P': 101325, u'T': 300}}]\n",
      "[[ 1.]]\n",
      "[-41109.66717]\n",
      "((1,), 'rss:', 0.0, 'AIC:', -inf)\n",
      "{1: -41109.667170000001, T*log(T): 0, T: 0, T**3: 0, 1/T: 0, T**2: 0}\n"
     ]
    }
   ],
   "source": [
    "parameters = paramselect.fit_formation_energy(comps, phase, configuration, datasets)\n",
    "print(parameters)"
   ]
  },
  {
   "cell_type": "code",
   "execution_count": 3,
   "metadata": {
    "collapsed": false,
    "scrolled": false
   },
   "outputs": [
    {
     "ename": "NotImplementedError",
     "evalue": "Plotting non-endmembers is not supported yet",
     "output_type": "error",
     "traceback": [
      "\u001b[1;31m---------------------------------------------------------------------------\u001b[0m",
      "\u001b[1;31mNotImplementedError\u001b[0m                       Traceback (most recent call last)",
      "\u001b[1;32m<ipython-input-3-b11a0d9e53ba>\u001b[0m in \u001b[0;36m<module>\u001b[1;34m()\u001b[0m\n\u001b[1;32m----> 1\u001b[1;33m \u001b[0mparamselect\u001b[0m\u001b[1;33m.\u001b[0m\u001b[0mplot_parameters\u001b[0m\u001b[1;33m(\u001b[0m\u001b[0mcomps\u001b[0m\u001b[1;33m,\u001b[0m \u001b[0mphase\u001b[0m\u001b[1;33m,\u001b[0m \u001b[0mconfiguration\u001b[0m\u001b[1;33m,\u001b[0m \u001b[0mratios\u001b[0m\u001b[1;33m,\u001b[0m \u001b[0mdatasets\u001b[0m\u001b[1;33m,\u001b[0m \u001b[0mparameters\u001b[0m\u001b[1;33m)\u001b[0m\u001b[1;33m\u001b[0m\u001b[0m\n\u001b[0m",
      "\u001b[1;32m/home/rotis/git/pycalphad-fitting/paramselect.py\u001b[0m in \u001b[0;36mplot_parameters\u001b[1;34m(comps, phase_name, configuration, subl_ratios, datasets, parameters, plots, refstate)\u001b[0m\n\u001b[0;32m    308\u001b[0m     \u001b[0mcomps\u001b[0m \u001b[1;33m=\u001b[0m \u001b[0msorted\u001b[0m\u001b[1;33m(\u001b[0m\u001b[0mcomps\u001b[0m\u001b[1;33m)\u001b[0m\u001b[1;33m\u001b[0m\u001b[0m\n\u001b[0;32m    309\u001b[0m     \u001b[1;32mif\u001b[0m \u001b[0many\u001b[0m\u001b[1;33m(\u001b[0m\u001b[1;33m[\u001b[0m\u001b[0misinstance\u001b[0m\u001b[1;33m(\u001b[0m\u001b[0mconfig\u001b[0m\u001b[1;33m,\u001b[0m \u001b[0mlist\u001b[0m\u001b[1;33m)\u001b[0m \u001b[1;32mfor\u001b[0m \u001b[0mconfig\u001b[0m \u001b[1;32min\u001b[0m \u001b[0mconfiguration\u001b[0m\u001b[1;33m]\u001b[0m\u001b[1;33m)\u001b[0m\u001b[1;33m:\u001b[0m\u001b[1;33m\u001b[0m\u001b[0m\n\u001b[1;32m--> 310\u001b[1;33m         \u001b[1;32mraise\u001b[0m \u001b[0mNotImplementedError\u001b[0m\u001b[1;33m(\u001b[0m\u001b[1;34m'Plotting non-endmembers is not supported yet'\u001b[0m\u001b[1;33m)\u001b[0m\u001b[1;33m\u001b[0m\u001b[0m\n\u001b[0m\u001b[0;32m    311\u001b[0m     \u001b[1;32mfor\u001b[0m \u001b[0mx_val\u001b[0m\u001b[1;33m,\u001b[0m \u001b[0my_val\u001b[0m \u001b[1;32min\u001b[0m \u001b[0mplots\u001b[0m\u001b[1;33m:\u001b[0m\u001b[1;33m\u001b[0m\u001b[0m\n\u001b[0;32m    312\u001b[0m         \u001b[0mrefdata\u001b[0m \u001b[1;33m=\u001b[0m \u001b[1;36m0\u001b[0m\u001b[1;33m\u001b[0m\u001b[0m\n",
      "\u001b[1;31mNotImplementedError\u001b[0m: Plotting non-endmembers is not supported yet"
     ]
    }
   ],
   "source": [
    "paramselect.plot_parameters(comps, phase, configuration, ratios, datasets, parameters)"
   ]
  },
  {
   "cell_type": "code",
   "execution_count": null,
   "metadata": {
    "collapsed": true
   },
   "outputs": [],
   "source": []
  }
 ],
 "metadata": {
  "kernelspec": {
   "display_name": "Python 2",
   "language": "python",
   "name": "python2"
  },
  "language_info": {
   "codemirror_mode": {
    "name": "ipython",
    "version": 2
   },
   "file_extension": ".py",
   "mimetype": "text/x-python",
   "name": "python",
   "nbconvert_exporter": "python",
   "pygments_lexer": "ipython2",
   "version": "2.7.11"
  }
 },
 "nbformat": 4,
 "nbformat_minor": 0
}
