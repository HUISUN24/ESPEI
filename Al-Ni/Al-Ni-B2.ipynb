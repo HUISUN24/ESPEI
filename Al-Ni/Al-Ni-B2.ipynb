{
 "cells": [
  {
   "cell_type": "code",
   "execution_count": 1,
   "metadata": {
    "collapsed": false
   },
   "outputs": [
    {
     "name": "stdout",
     "output_type": "stream",
     "text": [
      "2015-11-24 16:42:06.442659\n"
     ]
    }
   ],
   "source": [
    "import datetime\n",
    "import time\n",
    "current_time = datetime.datetime.now()\n",
    "print(current_time)\n",
    "timestamp = str(time.mktime(current_time.timetuple()))"
   ]
  },
  {
   "cell_type": "code",
   "execution_count": 3,
   "metadata": {
    "collapsed": false
   },
   "outputs": [
    {
     "name": "stdout",
     "output_type": "stream",
     "text": [
      "CPU times: user 8.01 s, sys: 16 ms, total: 8.03 s\n",
      "Wall time: 7.99 s\n",
      "CPU times: user 7.31 s, sys: 0 ns, total: 7.31 s\n",
      "Wall time: 7.3 s\n"
     ]
    }
   ],
   "source": [
    "%matplotlib inline\n",
    "import matplotlib\n",
    "import matplotlib.pyplot as plt\n",
    "matplotlib.style.use('bmh')\n",
    "from pycalphad.fitting import build_pymc_model\n",
    "from pycalphad import Database\n",
    "import pymc\n",
    "import numpy as np\n",
    "import glob\n",
    "\n",
    "input_database = Database('Al-Ni-start.tdb')\n",
    "dataset_names = sorted(glob.glob('BCC_B2*.json'))\n",
    "\n",
    "LB2ALVA_A = pymc.Normal('LB2ALVA_A', mu=0, tau=1./200000**2)\n",
    "B2ALVA_A = pymc.Normal('B2ALVA_A', mu=0, tau=1./100000**2)\n",
    "B2ALVA_B = pymc.Normal('B2ALVA_B', mu=0, tau=1./30**2)\n",
    "LB2NIVA_A = pymc.Normal('LB2NIVA_A', mu=0, tau=1./100000**2)\n",
    "LB2NIVA_B = pymc.Normal('LB2NIVA_B', mu=0, tau=1./30**2)\n",
    "B2NIVA_A = pymc.Normal('B2NIVA_A', mu=0, tau=1./100000**2)\n",
    "B2NIVA_B = pymc.Normal('B2NIVA_B', mu=0, tau=1./30**2)\n",
    "LB2ALNI_A = pymc.Normal('LB2ALNI_A', mu=0, tau=1./100000**2)\n",
    "LB2ALNI_B = pymc.Normal('LB2ALNI_B', mu=0, tau=1./30**2)\n",
    "B2ALNI_A = pymc.Normal('B2ALNI_A', mu=0, tau=1./100000**2)\n",
    "B2ALNI_B = pymc.Normal('B2ALNI_B', mu=0, tau=1./30**2)\n",
    "params = [LB2ALVA_A, B2ALVA_A, B2ALVA_B, LB2NIVA_A,\n",
    "          LB2NIVA_B, B2NIVA_A, B2NIVA_B, LB2ALNI_A,\n",
    "          LB2ALNI_B, B2ALNI_A, B2ALNI_B]\n",
    "%time mod = build_pymc_model(input_database, dataset_names, params)\n",
    "M = pymc.MAP(mod)\n",
    "%time M.fit()\n",
    "MDL = pymc.MCMC(mod, db='hdf5', dbname='AlNi-BCC_B2-'+timestamp+'.hdf5', dbcomplevel=4, dbcomplib='bzip2')"
   ]
  },
  {
   "cell_type": "code",
   "execution_count": null,
   "metadata": {
    "collapsed": false
   },
   "outputs": [],
   "source": [
    "%time MDL.sample(iter=100000, burn=80000, burn_till_tuned=False, thin=2, progress_bar=True)"
   ]
  },
  {
   "cell_type": "code",
   "execution_count": null,
   "metadata": {
    "collapsed": false,
    "scrolled": false
   },
   "outputs": [],
   "source": [
    "pymc.Matplot.autocorrelation(MDL)"
   ]
  },
  {
   "cell_type": "code",
   "execution_count": null,
   "metadata": {
    "collapsed": false
   },
   "outputs": [],
   "source": [
    "pymc.Matplot.summary_plot(params)"
   ]
  },
  {
   "cell_type": "code",
   "execution_count": null,
   "metadata": {
    "collapsed": false
   },
   "outputs": [],
   "source": [
    "from corner import corner\n",
    "from itertools import chain\n",
    "data = np.vstack(chain([i.trace() for i in params])).T\n",
    "corner(data, labels=[str(i) for i in params],\n",
    "       quantiles=[0.16, 0.5, 0.84],\n",
    "       truths=[150000, 10000, -1, -64024.38, 26.49419, 162397.3, -27.40575,\n",
    "               -64024.38, 26.49419, 162397.3, -27.40575, -52440.88, 11.30117,\n",
    "              -152397.3, 26.40575],\n",
    "       show_titles=True, title_args={\"fontsize\": 40}).show()"
   ]
  },
  {
   "cell_type": "code",
   "execution_count": null,
   "metadata": {
    "collapsed": false
   },
   "outputs": [],
   "source": [
    "trace_dict = dict([(str(i), i.trace()) for i in params])\n",
    "print(trace_dict)"
   ]
  },
  {
   "cell_type": "code",
   "execution_count": null,
   "metadata": {
    "collapsed": true
   },
   "outputs": [],
   "source": []
  }
 ],
 "metadata": {
  "kernelspec": {
   "display_name": "Python 2",
   "language": "python",
   "name": "python2"
  },
  "language_info": {
   "codemirror_mode": {
    "name": "ipython",
    "version": 2
   },
   "file_extension": ".py",
   "mimetype": "text/x-python",
   "name": "python",
   "nbconvert_exporter": "python",
   "pygments_lexer": "ipython2",
   "version": "2.7.10"
  }
 },
 "nbformat": 4,
 "nbformat_minor": 0
}
