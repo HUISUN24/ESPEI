{
 "cells": [
  {
   "cell_type": "code",
   "execution_count": null,
   "metadata": {
    "collapsed": false
   },
   "outputs": [
    {
     "name": "stdout",
     "output_type": "stream",
     "text": [
      "CPU times: user 8.1 s, sys: 46 ms, total: 8.14 s\n",
      "Wall time: 8.44 s\n"
     ]
    }
   ],
   "source": [
    "%matplotlib inline\n",
    "import matplotlib\n",
    "import matplotlib.pyplot as plt\n",
    "matplotlib.style.use('bmh')\n",
    "from pycalphad.fitting import build_pymc_model\n",
    "from pycalphad import Database\n",
    "import pymc\n",
    "import numpy as np\n",
    "import glob\n",
    "\n",
    "input_database = Database('Al-Ni-start.tdb')\n",
    "dataset_names = sorted(glob.glob('BCC_B2*.json'))\n",
    "\n",
    "LB2ALVA_A = pymc.Normal('LB2ALVA_A', mu=0, tau=1./50000**2)\n",
    "B2ALVA_A = pymc.Normal('B2ALVA_A', mu=0, tau=1./2000**2)\n",
    "B2ALVA_B = pymc.Normal('B2ALVA_B', mu=0, tau=1./100**2)\n",
    "LB2NIVA_A = pymc.Normal('LB2NIVA_A', mu=0, tau=1./50000**2)\n",
    "LB2NIVA_B = pymc.Normal('LB2NIVA_B', mu=0, tau=1./100**2)\n",
    "B2NIVA_A = pymc.Normal('B2NIVA_A', mu=0, tau=1./50000**2)\n",
    "B2NIVA_B = pymc.Normal('B2NIVA_B', mu=0, tau=1./100**2)\n",
    "LB2ALNI_A = pymc.Normal('LB2ALNI_A', mu=0, tau=1./50000**2)\n",
    "LB2ALNI_B = pymc.Normal('LB2ALNI_B', mu=0, tau=1./100**2)\n",
    "B2ALNI_A = pymc.Normal('B2ALNI_A', mu=0, tau=1./50000**2)\n",
    "B2ALNI_B = pymc.Normal('B2ALNI_B', mu=0, tau=1./100**2)\n",
    "params = [LB2ALVA_A, B2ALVA_A, B2ALVA_B, LB2NIVA_A,\n",
    "          LB2NIVA_B, B2NIVA_A, B2NIVA_B, LB2ALNI_A,\n",
    "          LB2ALNI_B, B2ALNI_A, B2ALNI_B]\n",
    "%time mod = build_pymc_model(input_database, dataset_names, params)\n",
    "MDL = pymc.MCMC(mod)"
   ]
  },
  {
   "cell_type": "code",
   "execution_count": null,
   "metadata": {
    "collapsed": false
   },
   "outputs": [
    {
     "name": "stdout",
     "output_type": "stream",
     "text": [
      " [                  1%                  ] 268 of 20000 complete in 15.8 sec"
     ]
    }
   ],
   "source": [
    "%time MDL.sample(iter=20000, burn=15000, burn_till_tuned=False, thin=2, progress_bar=True)"
   ]
  },
  {
   "cell_type": "code",
   "execution_count": null,
   "metadata": {
    "collapsed": false
   },
   "outputs": [],
   "source": [
    "pymc.Matplot.autocorrelation(MDL)"
   ]
  },
  {
   "cell_type": "code",
   "execution_count": null,
   "metadata": {
    "collapsed": false
   },
   "outputs": [],
   "source": [
    "pymc.Matplot.summary_plot(params)"
   ]
  },
  {
   "cell_type": "code",
   "execution_count": null,
   "metadata": {
    "collapsed": false
   },
   "outputs": [],
   "source": [
    "from corner import corner\n",
    "from itertools import chain\n",
    "data = np.vstack(chain([i.trace() for i in params])).T\n",
    "corner(data, labels=[str(i) for i in params],\n",
    "       quantiles=[0.16, 0.5, 0.84],\n",
    "       show_titles=True, title_args={\"fontsize\": 40}).show()"
   ]
  },
  {
   "cell_type": "code",
   "execution_count": null,
   "metadata": {
    "collapsed": true
   },
   "outputs": [],
   "source": []
  }
 ],
 "metadata": {
  "kernelspec": {
   "display_name": "Python 2",
   "language": "python",
   "name": "python2"
  },
  "language_info": {
   "codemirror_mode": {
    "name": "ipython",
    "version": 2
   },
   "file_extension": ".py",
   "mimetype": "text/x-python",
   "name": "python",
   "nbconvert_exporter": "python",
   "pygments_lexer": "ipython2",
   "version": "2.7.10"
  }
 },
 "nbformat": 4,
 "nbformat_minor": 0
}
