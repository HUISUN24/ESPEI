{
 "cells": [
  {
   "cell_type": "code",
   "execution_count": 1,
   "metadata": {
    "collapsed": true
   },
   "outputs": [],
   "source": [
    "SYSTEM = 'Al-Ni'\n",
    "PHASE = 'FCC_L12'"
   ]
  },
  {
   "cell_type": "code",
   "execution_count": 2,
   "metadata": {
    "collapsed": false
   },
   "outputs": [
    {
     "name": "stdout",
     "output_type": "stream",
     "text": [
      "2015-11-30 16:30:44.685036\n"
     ]
    }
   ],
   "source": [
    "import datetime\n",
    "import time\n",
    "import os\n",
    "current_time = datetime.datetime.now()\n",
    "print(current_time)\n",
    "timestamp = str(time.mktime(current_time.timetuple()))\n",
    "os.makedirs('output-results/{0}/{1}/'.format(PHASE, timestamp))"
   ]
  },
  {
   "cell_type": "code",
   "execution_count": 3,
   "metadata": {
    "collapsed": true
   },
   "outputs": [],
   "source": [
    "%matplotlib inline\n",
    "import matplotlib\n",
    "import matplotlib.pyplot as plt\n",
    "matplotlib.style.use('bmh')\n",
    "from pycalphad.fitting import build_pymc_model, plot_results\n",
    "from pycalphad import Database\n",
    "import pymc\n",
    "import numpy as np"
   ]
  },
  {
   "cell_type": "code",
   "execution_count": 4,
   "metadata": {
    "collapsed": false
   },
   "outputs": [
    {
     "name": "stdout",
     "output_type": "stream",
     "text": [
      "CPU times: user 2min 19s, sys: 366 ms, total: 2min 20s\n",
      "Wall time: 2min 19s\n"
     ]
    }
   ],
   "source": [
    "import glob\n",
    "input_database = Database(SYSTEM+'-start.tdb')\n",
    "dataset_names = sorted(glob.glob('input-json/'+PHASE+'/*.json'))\n",
    "\n",
    "FCCALNI0A = pymc.Normal('FCCALNI0A', mu=0, tau=1./100000**2)\n",
    "FCCALNI0B = pymc.Normal('FCCALNI0B', mu=0, tau=1./100**2)\n",
    "FCCALNI1A = pymc.Normal('FCCALNI1A', mu=0, tau=1./100000**2)\n",
    "FCCALNI1B = pymc.Normal('FCCALNI1B', mu=0, tau=1./100**2)\n",
    "FCCALNI2A = pymc.Normal('FCCALNI2A', mu=0, tau=1./100000**2)\n",
    "FCCALNI2B = pymc.Normal('FCCALNI2B', mu=0, tau=1./100**2)\n",
    "FCCALNI3A = pymc.Normal('FCCALNI3A', mu=0, tau=1./100000**2)\n",
    "FCCALNI3B = pymc.Normal('FCCALNI3B', mu=0, tau=1./100**2)\n",
    "FCCBMAGNNI = pymc.Gamma('FCCBMAGNNI', alpha=1, beta=1)\n",
    "FCCTCALNI0 = pymc.Normal('FCCTCALNI0', mu=0, tau=1./2000**2)\n",
    "FCCTCALNI1 = pymc.Normal('FCCTCALNI1', mu=0, tau=1./2000**2)\n",
    "L12UALNI_A = pymc.Normal('L12UALNI_A', mu=0, tau=1./100000**2)\n",
    "L12UALNI_B = pymc.Normal('L12UALNI_B', mu=0, tau=1./100**2)\n",
    "params = [FCCALNI0A, FCCALNI0B, FCCALNI1A, FCCALNI1B,\n",
    "          FCCALNI2A, FCCALNI2B, FCCALNI3A, FCCALNI3B,\n",
    "          FCCBMAGNNI, FCCTCALNI0, FCCTCALNI1, L12UALNI_A, L12UALNI_B]\n",
    "%time mod, datasets = build_pymc_model(input_database, dataset_names, params)"
   ]
  },
  {
   "cell_type": "markdown",
   "metadata": {},
   "source": [
    "## Run MCMC Simulation"
   ]
  },
  {
   "cell_type": "code",
   "execution_count": null,
   "metadata": {
    "collapsed": false
   },
   "outputs": [],
   "source": [
    "MDL = pymc.MCMC(mod, db='hdf5', dbname='output-traces/'+SYSTEM+'-'+PHASE+'-'+timestamp+'.hdf5',\n",
    "                dbcomplevel=4, dbcomplib='bzip2')"
   ]
  },
  {
   "cell_type": "code",
   "execution_count": null,
   "metadata": {
    "collapsed": false
   },
   "outputs": [],
   "source": [
    "%time MDL.sample(iter=20000, burn=15000, burn_till_tuned=False, thin=2, progress_bar=True)"
   ]
  }
 ],
 "metadata": {
  "kernelspec": {
   "display_name": "Python 2",
   "language": "python",
   "name": "python2"
  },
  "language_info": {
   "codemirror_mode": {
    "name": "ipython",
    "version": 2
   },
   "file_extension": ".py",
   "mimetype": "text/x-python",
   "name": "python",
   "nbconvert_exporter": "python",
   "pygments_lexer": "ipython2",
   "version": "2.7.10"
  }
 },
 "nbformat": 4,
 "nbformat_minor": 0
}
