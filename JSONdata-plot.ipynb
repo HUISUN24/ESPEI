{
 "cells": [
  {
   "cell_type": "code",
   "execution_count": 2,
   "metadata": {},
   "outputs": [],
   "source": [
    "##########################\n",
    "\n",
    "###### INPUT VARS ########\n",
    "\n",
    "##########################\n",
    "\n",
    "\n",
    "\n",
    "DATASETS_DIR = '/Users/sunhui/Desktop/ESPEI-NB-NI/ESPEI/Cr-Fe-Y'\n",
    "\n",
    "comps = ['CR','FE']\n",
    "\n",
    "independent_component = 'FE'\n",
    "\n",
    "OUTPUT_EXP_FILENAME = 'CR-FE-Y.exp'\n",
    "\n",
    "\n",
    "\n",
    "############################\n",
    "\n",
    "############# RUN ##########\n",
    "\n",
    "############################\n",
    "\n",
    "\n",
    "\n",
    "\n",
    "\n",
    "import tinydb\n",
    "\n",
    "from pycalphad import Database\n",
    "\n",
    "from espei.datasets import load_datasets, recursive_glob\n",
    "\n",
    "from espei.core_utils import ravel_zpf_values\n",
    "\n",
    "from espei.utils import bib_marker_map\n",
    "\n",
    "\n",
    "\n",
    "\n",
    "\n",
    "# load the experimental and DFT datasets\n",
    "\n",
    "datasets = load_datasets(recursive_glob(DATASETS_DIR, '*.json'))\n",
    "\n",
    "# phases = ['LIQUID', 'BCC_A2', 'FCC_A1']\n",
    "\n",
    "\n",
    "\n",
    "\n",
    "\n",
    "\n",
    "\n",
    "\n",
    "\n",
    "desired_data = datasets.search((tinydb.where('output') == 'Y') &\n",
    "\n",
    "                               (tinydb.where('components').test(lambda x: set(x).issubset(comps + ['VA']))) #&\n",
    "\n",
    "                              # (tinydb.where('phases').test(lambda x: len(set(phases).intersection(x)) > 0)))\n",
    "\n",
    "                              )\n",
    "\n",
    "\n",
    "\n",
    "\n",
    "\n",
    "\n",
    "\n"
   ]
  },
  {
   "cell_type": "code",
   "execution_count": 1,
   "metadata": {},
   "outputs": [
    {
     "data": {
      "text/plain": [
       "<module 'espei' from '/Users/sunhui/Desktop/ESPEI-NB-NI/ESPEI/espei/__init__.py'>"
      ]
     },
     "execution_count": 1,
     "metadata": {},
     "output_type": "execute_result"
    }
   ],
   "source": [
    "import espei\n",
    "espei"
   ]
  },
  {
   "cell_type": "code",
   "execution_count": 8,
   "metadata": {},
   "outputs": [
    {
     "name": "stdout",
     "output_type": "stream",
     "text": [
      "[0.887, None, 0.249, None, 0.362, None, 0.9, None, 0.285, None]\n"
     ]
    }
   ],
   "source": [
    "x=[]\n",
    "for i in desired_data:\n",
    "    print(i['values'][0][0][0])\n"
   ]
  },
  {
   "cell_type": "code",
   "execution_count": 21,
   "metadata": {},
   "outputs": [
    {
     "name": "stdout",
     "output_type": "stream",
     "text": [
      "{'Cieslak2008': {'formatted': 'Cieslak2008', 'markers': {'fillstyle': 'none', 'marker': 'o'}}}\n",
      "data= {'o': 'S1'}\n"
     ]
    }
   ],
   "source": [
    "#raveled_dict = ravel_zpf_values(desired_data, [independent_component])\n",
    "\n",
    "\n",
    "\n",
    "\n",
    "\n",
    "bib_reference_keys = sorted(list({entry['reference'] for entry in desired_data}))\n",
    "\n",
    "symbol_map = bib_marker_map(bib_reference_keys)\n",
    "print(symbol_map)\n",
    "\n",
    "# map matplotlib string markers to strings of markers for Thermo-Calc's POST\n",
    "\n",
    "dataplot_symbols = ['S'+str(i) for i in range(1, 18)]\n",
    "\n",
    "dataplot_marker_map = dict(zip([v['markers']['marker'] for v in symbol_map.values()], dataplot_symbols))\n",
    "print('data=',dataplot_marker_map)\n",
    "\n",
    "\n",
    "\n",
    "\n",
    "\n",
    "\n",
    "#equilibria_to_plot = raveled_dict.get(2, [])\n",
    "\n",
    "\n",
    "equilibria_lines = []\n",
    "y_value=0.95\n",
    "x_value=0.40\n",
    "ref_key_list=[]\n",
    "n=0\n",
    "t_type=''\n",
    "for eq in desired_data:\n",
    "    x_val = []\n",
    "    y_val = []\n",
    "    phase_name=eq['phases'][0]\n",
    "    ref_key=eq['reference']\n",
    "   # for site in range(len(eq['solver']['sublattice_occupancies'])):\n",
    "    for y in range(len(eq['values'][0][0][0])):\n",
    "        sym_ref = symbol_map[ref_key]\n",
    "        for x in range(len(eq['conditions']['X_FE'])):\n",
    "            \n",
    "        #    x_val = eq['solver']['sublattice_occupancies'][site][0][1]\n",
    "            x_val = eq['conditions']['X_FE'][x]\n",
    "            y_val = eq['values'][0][0][x][y]\n",
    "            \n",
    "        #if n==(len(equilibria_to_plot)*2-1):\n",
    "         #     refer=str(x_value)+'\\t'+str(y_value)+'\\t'+\"mna'\"+'\\t'+ref_key+'\\n'\n",
    "          #    equilibria_lines.append(refer)\n",
    "           #   y_value=int((y_value-0.05)*100)/100\n",
    "            if t_type=='C':\n",
    "                y_val=y_val-273\n",
    "            if x_val is not None and y_val is not None:\n",
    "\n",
    "                line = \"{} {} {}\".format(x_val, y_val, dataplot_marker_map[sym_ref['markers']['marker']])\n",
    "\n",
    "                equilibria_lines.append(line)\n",
    "        y_value=int((y_value-0.05)*100)/100\n",
    "        refer=str(x_value)+'\\t'+str(y_value)+'\\t'+\"mna'\"+'\\t'+str(x_val)+'\\n'\n",
    "        equilibria_lines.append(refer)\n",
    "\n",
    "\n",
    "\n",
    "\n",
    "\n",
    "\n",
    "\n"
   ]
  },
  {
   "cell_type": "code",
   "execution_count": 22,
   "metadata": {},
   "outputs": [],
   "source": [
    "exp_file_lines = \"\"\"$DATAPLOT Phase diagram, automatically generated\n",
    "\n",
    "PROLOG 1 EXAMPLE 1  0<X<1, 300<Y<2500\n",
    "\n",
    "DATASET 1 Two lines started with two symbols\n",
    "\n",
    "ATTRIBUTE CENTER\n",
    "\n",
    "BLOCK X=C1; Y=C2; GOC=C3,SWAS\n",
    "\n",
    "\"\"\".splitlines()\n",
    "\n",
    "exp_file_lines.extend(equilibria_lines)\n",
    "# 0.55  0.85  mna'  Bennedek\n",
    "\n",
    "exp_file_lines.append('BLOCK_END')\n",
    "\n",
    "\n",
    "with open(OUTPUT_EXP_FILENAME,'w') as fp:\n",
    "\n",
    "    fp.write(\"\\n\".join(exp_file_lines))"
   ]
  },
  {
   "cell_type": "code",
   "execution_count": null,
   "metadata": {},
   "outputs": [],
   "source": []
  }
 ],
 "metadata": {
  "kernelspec": {
   "display_name": "Python [conda env:espei-new]",
   "language": "python",
   "name": "conda-env-espei-new-py"
  },
  "language_info": {
   "codemirror_mode": {
    "name": "ipython",
    "version": 3
   },
   "file_extension": ".py",
   "mimetype": "text/x-python",
   "name": "python",
   "nbconvert_exporter": "python",
   "pygments_lexer": "ipython3",
   "version": "3.8.5"
  }
 },
 "nbformat": 4,
 "nbformat_minor": 4
}
