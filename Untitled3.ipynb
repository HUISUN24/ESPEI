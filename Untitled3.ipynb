{
 "cells": [
  {
   "cell_type": "code",
   "execution_count": 1,
   "metadata": {},
   "outputs": [
    {
     "name": "stdout",
     "output_type": "stream",
     "text": [
      "Elements: ['NB', 'NI', 'VA']\n",
      "Species: [Species('NB', 'NB1'), Species('NI', 'NI1'), Species('VA', 'VA1')]\n",
      "Phase({'name': 'ALPHA_MN', 'constituents': (frozenset({Species('NI', 'NI1')}), frozenset({Species('VA', 'VA1')})), 'sublattices': (1.0, 1.0), 'model_hints': {'ihj_magnetic_afm_factor': -3.0, 'ihj_magnetic_structure_factor': 0.28}})\n",
      "Phase({'name': 'BCC_A2', 'constituents': (frozenset({Species('NI', 'NI1'), Species('NB', 'NB1')}), frozenset({Species('VA', 'VA1')})), 'sublattices': (1.0, 3.0), 'model_hints': {'ihj_magnetic_afm_factor': -1.0, 'ihj_magnetic_structure_factor': 0.4}})\n",
      "Phase({'name': 'BCC_B2', 'constituents': (frozenset({Species('NI', 'NI1')}), frozenset({Species('NI', 'NI1')}), frozenset({Species('VA', 'VA1')})), 'sublattices': (0.5, 0.5, 3.0), 'model_hints': {}})\n",
      "Phase({'name': 'BETA_MN', 'constituents': (frozenset({Species('NI', 'NI1')}), frozenset({Species('VA', 'VA1')})), 'sublattices': (1.0, 1.0), 'model_hints': {}})\n",
      "Phase({'name': 'BETA_RHOMBO_B', 'constituents': (frozenset({Species('NB', 'NB1')}),), 'sublattices': (1.0,), 'model_hints': {}})\n",
      "Phase({'name': 'DELTA', 'constituents': (frozenset({Species('NI', 'NI1'), Species('NB', 'NB1')}), frozenset({Species('NI', 'NI1'), Species('NB', 'NB1')}), frozenset({Species('NI', 'NI1'), Species('NB', 'NB1')})), 'sublattices': (1.0, 1.0, 2.0), 'model_hints': {}})\n",
      "Phase({'name': 'FCC_A1', 'constituents': (frozenset({Species('NI', 'NI1'), Species('NB', 'NB1')}), frozenset({Species('VA', 'VA1')})), 'sublattices': (1.0, 1.0), 'model_hints': {'ihj_magnetic_afm_factor': -3.0, 'ihj_magnetic_structure_factor': 0.28}})\n",
      "Phase({'name': 'GAMMA_DP', 'constituents': (frozenset({Species('NI', 'NI1'), Species('NB', 'NB1')}), frozenset({Species('NI', 'NI1'), Species('NB', 'NB1')})), 'sublattices': (1.0, 3.0), 'model_hints': {}})\n",
      "Phase({'name': 'GAMMA_PRIME', 'constituents': (frozenset({Species('NI', 'NI1'), Species('NB', 'NB1')}), frozenset({Species('NI', 'NI1'), Species('NB', 'NB1')})), 'sublattices': (0.25, 0.75), 'model_hints': {}})\n",
      "Phase({'name': 'HCP_A3', 'constituents': (frozenset({Species('NI', 'NI1'), Species('NB', 'NB1')}), frozenset({Species('VA', 'VA1')})), 'sublattices': (1.0, 0.5), 'model_hints': {'ihj_magnetic_afm_factor': -3.0, 'ihj_magnetic_structure_factor': 0.28}})\n",
      "Phase({'name': 'LAVES', 'constituents': (frozenset({Species('NI', 'NI1'), Species('NB', 'NB1')}), frozenset({Species('NI', 'NI1'), Species('NB', 'NB1')})), 'sublattices': (2.0, 1.0), 'model_hints': {}})\n",
      "Phase({'name': 'LAV_C14', 'constituents': (frozenset({Species('NI', 'NI1')}), frozenset({Species('NI', 'NI1')}), frozenset({Species('NI', 'NI1')})), 'sublattices': (1.0, 1.5, 0.5), 'model_hints': {}})\n",
      "Phase({'name': 'LIQUID', 'constituents': (frozenset({Species('NI', 'NI1'), Species('NB', 'NB1')}),), 'sublattices': (1.0,), 'model_hints': {}})\n",
      "Phase({'name': 'MU_PHASE', 'constituents': (frozenset({Species('NI', 'NI1'), Species('NB', 'NB1')}), frozenset({Species('NI', 'NI1'), Species('NB', 'NB1')}), frozenset({Species('NI', 'NI1'), Species('NB', 'NB1')}), frozenset({Species('NI', 'NI1'), Species('NB', 'NB1')}), frozenset({Species('NI', 'NI1'), Species('NB', 'NB1')})), 'sublattices': (2.0, 2.0, 2.0, 6.0, 1.0), 'model_hints': {}})\n",
      "Phase({'name': 'NBB', 'constituents': (frozenset({Species('NB', 'NB1')}), frozenset({Species('NB', 'NB1')})), 'sublattices': (1.0, 1.0), 'model_hints': {}})\n",
      "Phase({'name': 'NBNI8', 'constituents': (frozenset({Species('NB', 'NB1')}), frozenset({Species('NI', 'NI1')})), 'sublattices': (1.0, 8.0), 'model_hints': {}})\n",
      "Phase({'name': 'NIAL', 'constituents': (frozenset({Species('NI', 'NI1')}), frozenset({Species('NI', 'NI1')}), frozenset({Species('VA', 'VA1')})), 'sublattices': (0.5, 0.5, 3.0), 'model_hints': {'ihj_magnetic_afm_factor': -1.0, 'ihj_magnetic_structure_factor': 0.4}})\n",
      "Phase({'name': 'NITI2', 'constituents': (frozenset({Species('NI', 'NI1')}), frozenset({Species('NI', 'NI1')})), 'sublattices': (2.0, 1.0), 'model_hints': {}})\n",
      "57 symbols in database\n",
      "96 parameters in database\n",
      "\n",
      "False\n",
      "False\n",
      "False\n",
      "False\n",
      "True\n",
      "True\n",
      "False\n",
      "True\n",
      "True\n",
      "False\n",
      "True\n",
      "True\n",
      "True\n",
      "True\n",
      "True\n",
      "True\n",
      "False\n",
      "True\n"
     ]
    },
    {
     "ename": "ConditionError",
     "evalue": "None of the passed phases (['FCC_A1']) are active. List of possible phases: ['BETA_RHOMBO_B', 'DELTA', 'GAMMA_DP', 'GAMMA_PRIME', 'LAVES', 'LAV_C14', 'LIQUID', 'MU_PHASE', 'NBB', 'NBNI8', 'NITI2'].",
     "output_type": "error",
     "traceback": [
      "\u001b[0;31m---------------------------------------------------------------------------\u001b[0m",
      "\u001b[0;31mConditionError\u001b[0m                            Traceback (most recent call last)",
      "\u001b[0;32m<ipython-input-1-895628a82429>\u001b[0m in \u001b[0;36m<module>\u001b[0;34m\u001b[0m\n\u001b[1;32m     18\u001b[0m \u001b[0;31m# Loop over phases, calculate the Gibbs energy, and scatter plot GM vs. X(RE)\u001b[0m\u001b[0;34m\u001b[0m\u001b[0;34m\u001b[0m\u001b[0;34m\u001b[0m\u001b[0m\n\u001b[1;32m     19\u001b[0m \u001b[0;32mfor\u001b[0m \u001b[0mphase_name\u001b[0m \u001b[0;32min\u001b[0m \u001b[0mmy_phases_NbNi\u001b[0m\u001b[0;34m:\u001b[0m\u001b[0;34m\u001b[0m\u001b[0;34m\u001b[0m\u001b[0m\n\u001b[0;32m---> 20\u001b[0;31m     \u001b[0mresult\u001b[0m \u001b[0;34m=\u001b[0m \u001b[0mcalculate\u001b[0m\u001b[0;34m(\u001b[0m\u001b[0mdb_NbNi\u001b[0m\u001b[0;34m,\u001b[0m \u001b[0;34m[\u001b[0m\u001b[0;34m'NB'\u001b[0m\u001b[0;34m,\u001b[0m \u001b[0;34m'NI'\u001b[0m\u001b[0;34m]\u001b[0m\u001b[0;34m,\u001b[0m \u001b[0mphase_name\u001b[0m\u001b[0;34m,\u001b[0m \u001b[0mP\u001b[0m\u001b[0;34m=\u001b[0m\u001b[0;36m101325\u001b[0m\u001b[0;34m,\u001b[0m \u001b[0mT\u001b[0m\u001b[0;34m=\u001b[0m\u001b[0;36m1800\u001b[0m\u001b[0;34m,\u001b[0m \u001b[0moutput\u001b[0m\u001b[0;34m=\u001b[0m\u001b[0;34m'GM'\u001b[0m\u001b[0;34m)\u001b[0m\u001b[0;34m\u001b[0m\u001b[0;34m\u001b[0m\u001b[0m\n\u001b[0m\u001b[1;32m     21\u001b[0m     \u001b[0max\u001b[0m\u001b[0;34m.\u001b[0m\u001b[0mscatter\u001b[0m\u001b[0;34m(\u001b[0m\u001b[0mresult\u001b[0m\u001b[0;34m.\u001b[0m\u001b[0mX\u001b[0m\u001b[0;34m.\u001b[0m\u001b[0msel\u001b[0m\u001b[0;34m(\u001b[0m\u001b[0mcomponent\u001b[0m\u001b[0;34m=\u001b[0m\u001b[0;34m'NB'\u001b[0m\u001b[0;34m)\u001b[0m\u001b[0;34m,\u001b[0m \u001b[0mresult\u001b[0m\u001b[0;34m.\u001b[0m\u001b[0mGM\u001b[0m\u001b[0;34m,\u001b[0m \u001b[0mmarker\u001b[0m\u001b[0;34m=\u001b[0m\u001b[0;34m'.'\u001b[0m\u001b[0;34m,\u001b[0m \u001b[0ms\u001b[0m\u001b[0;34m=\u001b[0m\u001b[0;36m5\u001b[0m\u001b[0;34m,\u001b[0m \u001b[0mcolor\u001b[0m\u001b[0;34m=\u001b[0m\u001b[0mcolor_dict\u001b[0m\u001b[0;34m[\u001b[0m\u001b[0mphase_name\u001b[0m\u001b[0;34m]\u001b[0m\u001b[0;34m)\u001b[0m\u001b[0;34m\u001b[0m\u001b[0;34m\u001b[0m\u001b[0m\n\u001b[1;32m     22\u001b[0m \u001b[0;34m\u001b[0m\u001b[0m\n",
      "\u001b[0;32m~/opt/anaconda3/lib/python3.7/site-packages/pycalphad/core/calculate.py\u001b[0m in \u001b[0;36mcalculate\u001b[0;34m(dbf, comps, phases, mode, output, fake_points, broadcast, parameters, **kwargs)\u001b[0m\n\u001b[1;32m    324\u001b[0m     \u001b[0;32mif\u001b[0m \u001b[0mlen\u001b[0m\u001b[0;34m(\u001b[0m\u001b[0mactive_phases\u001b[0m\u001b[0;34m)\u001b[0m \u001b[0;34m==\u001b[0m \u001b[0;36m0\u001b[0m\u001b[0;34m:\u001b[0m\u001b[0;34m\u001b[0m\u001b[0;34m\u001b[0m\u001b[0m\n\u001b[1;32m    325\u001b[0m         raise ConditionError('None of the passed phases ({0}) are active. List of possible phases: {1}.'\n\u001b[0;32m--> 326\u001b[0;31m                              .format(phases, list_of_possible_phases))\n\u001b[0m\u001b[1;32m    327\u001b[0m \u001b[0;34m\u001b[0m\u001b[0m\n\u001b[1;32m    328\u001b[0m     \u001b[0mmodels\u001b[0m \u001b[0;34m=\u001b[0m \u001b[0minstantiate_models\u001b[0m\u001b[0;34m(\u001b[0m\u001b[0mdbf\u001b[0m\u001b[0;34m,\u001b[0m \u001b[0mcomps\u001b[0m\u001b[0;34m,\u001b[0m \u001b[0mlist\u001b[0m\u001b[0;34m(\u001b[0m\u001b[0mactive_phases\u001b[0m\u001b[0;34m.\u001b[0m\u001b[0mkeys\u001b[0m\u001b[0;34m(\u001b[0m\u001b[0;34m)\u001b[0m\u001b[0;34m)\u001b[0m\u001b[0;34m,\u001b[0m \u001b[0mmodel\u001b[0m\u001b[0;34m=\u001b[0m\u001b[0mkwargs\u001b[0m\u001b[0;34m.\u001b[0m\u001b[0mpop\u001b[0m\u001b[0;34m(\u001b[0m\u001b[0;34m'model'\u001b[0m\u001b[0;34m,\u001b[0m \u001b[0;32mNone\u001b[0m\u001b[0;34m)\u001b[0m\u001b[0;34m,\u001b[0m \u001b[0mparameters\u001b[0m\u001b[0;34m=\u001b[0m\u001b[0mparameters\u001b[0m\u001b[0;34m)\u001b[0m\u001b[0;34m\u001b[0m\u001b[0;34m\u001b[0m\u001b[0m\n",
      "\u001b[0;31mConditionError\u001b[0m: None of the passed phases (['FCC_A1']) are active. List of possible phases: ['BETA_RHOMBO_B', 'DELTA', 'GAMMA_DP', 'GAMMA_PRIME', 'LAVES', 'LAV_C14', 'LIQUID', 'MU_PHASE', 'NBB', 'NBNI8', 'NITI2']."
     ]
    },
    {
     "data": {
      "image/png": "[encoded data removed]",
      "text/plain": [
       "<Figure size 648x432 with 1 Axes>"
      ]
     },
     "metadata": {
      "needs_background": "light"
     },
     "output_type": "display_data"
    }
   ],
   "source": [
    "%matplotlib inline\n",
    "import matplotlib.pyplot as plt\n",
    "from pycalphad import Database, calculate, variables as v\n",
    "from pycalphad.plot.utils import phase_legend\n",
    "import numpy as np\n",
    "\n",
    "# Load database and choose the phases that will be plotted\n",
    "db_NbNi = Database('Nb-Ni-Delta-finsih.TDB')\n",
    "print(db_NbNi)\n",
    "my_phases_NbNi = ['FCC_A1', 'NBNI8', 'DELTA', 'LIQUID', 'MU_PHASE', 'BCC_A2']\n",
    "\n",
    "# Get the colors that map phase names to colors in the legend\n",
    "legend_handles, color_dict = phase_legend(my_phases_NbNi)\n",
    "\n",
    "fig = plt.figure(figsize=(9,6))\n",
    "ax = fig.gca()\n",
    "\n",
    "# Loop over phases, calculate the Gibbs energy, and scatter plot GM vs. X(RE)\n",
    "for phase_name in my_phases_NbNi:\n",
    "    result = calculate(db_NbNi, ['NB', 'NI'], phase_name, P=101325, T=1800, output='GM')\n",
    "    ax.scatter(result.X.sel(component='NB'), result.GM, marker='.', s=5, color=color_dict[phase_name])\n",
    "\n",
    "# Format the plot\n",
    "ax.set_xlabel('X(NB)')\n",
    "ax.set_ylabel('GM')\n",
    "ax.set_xlim((0, 1))\n",
    "ax.legend(handles=legend_handles, loc='center left', bbox_to_anchor=(1, 0.6))\n",
    "plt.show()"
   ]
  },
  {
   "cell_type": "code",
   "execution_count": null,
   "metadata": {},
   "outputs": [],
   "source": []
  }
 ],
 "metadata": {
  "kernelspec": {
   "display_name": "Python 3",
   "language": "python",
   "name": "python3"
  },
  "language_info": {
   "codemirror_mode": {
    "name": "ipython",
    "version": 3
   },
   "file_extension": ".py",
   "mimetype": "text/x-python",
   "name": "python",
   "nbconvert_exporter": "python",
   "pygments_lexer": "ipython3",
   "version": "3.7.4"
  }
 },
 "nbformat": 4,
 "nbformat_minor": 2
}
